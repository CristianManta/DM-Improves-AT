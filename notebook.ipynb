{
 "cells": [
  {
   "cell_type": "markdown",
   "metadata": {},
   "source": [
    "# Create a random sample of generated data from the 1M samples provided by EDM"
   ]
  },
  {
   "cell_type": "code",
   "execution_count": 5,
   "metadata": {},
   "outputs": [
    {
     "name": "stdout",
     "output_type": "stream",
     "text": [
      "48k images have been successfully saved.\n"
     ]
    }
   ],
   "source": [
    "import numpy as np\n",
    "\n",
    "# Load the dataset\n",
    "data = np.load('edm_data/cifar10-1m.npz')\n",
    "images = data['image']  # Assuming the key for images in the npz file is 'images'\n",
    "labels = data['label']  # Assuming there are labels and the key is 'labels'\n",
    "\n",
    "# Check if the dataset contains 1M images\n",
    "assert images.shape[0] == 1000000, \"The dataset does not contain 1M images.\"\n",
    "\n",
    "num_indices = 48976 # This is the number of training images provided by the CIFAR10s dataset\n",
    "# Randomly select the indices\n",
    "indices = np.random.choice(images.shape[0], num_indices, replace=False)\n",
    "\n",
    "# Extract the selected images and labels\n",
    "selected_images = images[indices]\n",
    "selected_labels = labels[indices]\n",
    "\n",
    "# Save the selected images and labels to a new .npz file\n",
    "np.savez(f'edm_data/cifar10-{int(num_indices / 1000)}k.npz', image=selected_images, label=selected_labels)\n",
    "\n",
    "print(f\"{int(num_indices / 1000)}k images have been successfully saved.\")"
   ]
  }
 ],
 "metadata": {
  "kernelspec": {
   "display_name": "adversarial-ml",
   "language": "python",
   "name": "python3"
  },
  "language_info": {
   "codemirror_mode": {
    "name": "ipython",
    "version": 3
   },
   "file_extension": ".py",
   "mimetype": "text/x-python",
   "name": "python",
   "nbconvert_exporter": "python",
   "pygments_lexer": "ipython3",
   "version": "3.9.18"
  }
 },
 "nbformat": 4,
 "nbformat_minor": 2
}
